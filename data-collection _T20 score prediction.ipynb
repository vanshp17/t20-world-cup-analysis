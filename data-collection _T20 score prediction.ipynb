{
 "cells": [
  {
   "cell_type": "code",
   "execution_count": 1,
   "id": "828354f6",
   "metadata": {},
   "outputs": [],
   "source": [
    "#! pip install opendatasets --quiet"
   ]
  },
  {
   "cell_type": "code",
   "execution_count": 11,
   "id": "ba9aa9c7",
   "metadata": {},
   "outputs": [],
   "source": [
    "import opendatasets as od\n",
    "import os\n",
    "import zipfile\n",
    "import shutil"
   ]
  },
  {
   "cell_type": "code",
   "execution_count": 12,
   "id": "0d1cce92",
   "metadata": {},
   "outputs": [],
   "source": [
    "# URL of the Kaggle dataset\n",
    "dataset_url = 'https://www.kaggle.com/datasets/veeralakrishna/cricsheet-a-retrosheet-for-cricket'\n"
   ]
  },
  {
   "cell_type": "code",
   "execution_count": 13,
   "id": "97b75bbc",
   "metadata": {},
   "outputs": [],
   "source": [
    "# Path to download the dataset\n",
    "download_path = 'E:/Vanshita/data_download'\n",
    "extract_path = 'E:/Vanshita/data_extract'"
   ]
  },
  {
   "cell_type": "code",
   "execution_count": 14,
   "id": "48f0ec36",
   "metadata": {},
   "outputs": [
    {
     "name": "stdout",
     "output_type": "stream",
     "text": [
      "Please provide your Kaggle credentials to download this dataset. Learn more: http://bit.ly/kaggle-creds\n",
      "Your Kaggle username: vanshitapatil\n",
      "Your Kaggle Key: ········\n",
      "Dataset URL: https://www.kaggle.com/datasets/veeralakrishna/cricsheet-a-retrosheet-for-cricket\n",
      "Downloading cricsheet-a-retrosheet-for-cricket.zip to E:/Vanshita/data_download\\cricsheet-a-retrosheet-for-cricket\n"
     ]
    },
    {
     "name": "stderr",
     "output_type": "stream",
     "text": [
      "100%|█████████████████████████████████████████████████████████████████████████████| 57.9M/57.9M [00:12<00:00, 5.03MB/s]\n"
     ]
    },
    {
     "name": "stdout",
     "output_type": "stream",
     "text": [
      "\n"
     ]
    }
   ],
   "source": [
    "# Download the dataset using opendatasets\n",
    "od.download(dataset_url, download_path)"
   ]
  },
  {
   "cell_type": "code",
   "execution_count": 15,
   "id": "2c29a8fd",
   "metadata": {},
   "outputs": [],
   "source": [
    "# Verify the download directory\n",
    "dataset_dir = os.path.join(download_path, 'cricsheet-a-retrosheet-for-cricket')\n",
    "\n",
    "# Check if the dataset directory exists and contains files\n",
    "if not os.path.exists(dataset_dir) or not os.listdir(dataset_dir):\n",
    "    raise FileNotFoundError(\"Dataset directory is empty or does not exist. Please check the download path.\")\n"
   ]
  },
  {
   "cell_type": "code",
   "execution_count": 16,
   "id": "e29fbd6e",
   "metadata": {},
   "outputs": [
    {
     "name": "stdout",
     "output_type": "stream",
     "text": [
      "Folder 'E:/Vanshita/data_download\\cricsheet-a-retrosheet-for-cricket\\t20s' copied to 'E:/Vanshita/data_extract\\t20s' successfully!\n"
     ]
    }
   ],
   "source": [
    "# Path to copy the specific folder\n",
    "copy_path = 'E:/Vanshita/data_extract'\n",
    "\n",
    "# Ensure the copy path exists\n",
    "os.makedirs(copy_path, exist_ok=True)\n",
    "\n",
    "# Copy only the desired folder\n",
    "src_folder = os.path.join(dataset_dir, 't20s')\n",
    "dst_folder = os.path.join(copy_path, 't20s')\n",
    "\n",
    "if os.path.exists(src_folder):\n",
    "    shutil.copytree(src_folder, dst_folder)\n",
    "    print(f\"Folder '{src_folder}' copied to '{dst_folder}' successfully!\")\n",
    "else:\n",
    "    raise FileNotFoundError(f\"The folder '{src_folder}' does not exist in the dataset directory.\")"
   ]
  },
  {
   "cell_type": "code",
   "execution_count": 17,
   "id": "c36f730a",
   "metadata": {},
   "outputs": [],
   "source": [
    "# path = E:\\Vanshita\\data_extract\\t20s"
   ]
  },
  {
   "cell_type": "code",
   "execution_count": null,
   "id": "5d299386",
   "metadata": {},
   "outputs": [],
   "source": [
    "# first we need to extract data "
   ]
  }
 ],
 "metadata": {
  "kernelspec": {
   "display_name": "Python 3 (ipykernel)",
   "language": "python",
   "name": "python3"
  },
  "language_info": {
   "codemirror_mode": {
    "name": "ipython",
    "version": 3
   },
   "file_extension": ".py",
   "mimetype": "text/x-python",
   "name": "python",
   "nbconvert_exporter": "python",
   "pygments_lexer": "ipython3",
   "version": "3.11.5"
  }
 },
 "nbformat": 4,
 "nbformat_minor": 5
}
